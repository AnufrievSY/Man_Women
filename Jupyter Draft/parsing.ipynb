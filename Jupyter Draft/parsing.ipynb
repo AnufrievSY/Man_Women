{
 "cells": [
  {
   "cell_type": "code",
   "execution_count": 181,
   "id": "924697f1",
   "metadata": {},
   "outputs": [],
   "source": [
    "import pandas as pd  # для создание базы данных из получившихся сведений для дальнейшей обработки\n",
    "import bs4  # для извлечения данных со страницы сайта\n",
    "import requests # для работы с извлеченными данными\n",
    "from youtube_search import YoutubeSearch # для вывода результатов при поиске на ютубе\n",
    "# Следующие модули необязательные и добавлены исключительно для наблюдения за процессом парсинга\n",
    "import time  # для подсчета затрчиваемого времени\n",
    "from IPython.display import clear_output # отчищает вывод\n",
    "import matplotlib.pyplot as plt # строит график"
   ]
  },
  {
   "cell_type": "code",
   "execution_count": 247,
   "id": "d60769e5",
   "metadata": {},
   "outputs": [],
   "source": [
    "# Сброс ограничений на количество выводимых рядов\n",
    "#pd.set_option('display.max_rows', None)\n",
    " \n",
    "# Сброс ограничений на число столбцов\n",
    "#pd.set_option('display.max_columns', None)\n",
    " \n",
    "# Сброс ограничений на количество символов в записи\n",
    "pd.set_option('display.max_colwidth', None)"
   ]
  },
  {
   "cell_type": "code",
   "execution_count": 255,
   "id": "7630a7ff",
   "metadata": {},
   "outputs": [],
   "source": [
    "def get_date(soup):\n",
    "    #Получение даты выпуска\n",
    "    date =[]\n",
    "    for i in soup.find_all('img', {'class':\"attachment-bam-featured size-bam-featured wp-post-image\"}):\n",
    "        for i in [i['alt'].split(' — ')]:\n",
    "            if len(i)>1:\n",
    "                date+=[i[0].split(' ')[2]]\n",
    "            else:\n",
    "                date+=['-']\n",
    "    return date\n",
    "\n",
    "def get_name(soup):\n",
    "    #Получение названия передачи\n",
    "    name =[]\n",
    "    for i in soup.find_all('img', {'class':\"attachment-bam-featured size-bam-featured wp-post-image\"}):\n",
    "        for i in [i['alt'].split(' — ')]:\n",
    "            if len(i)>1:\n",
    "                name+=[i[1]]\n",
    "            else:\n",
    "                name+=[i[0]]\n",
    "    return name\n",
    "\n",
    "def get_url(soup):\n",
    "    url = [i['href'] for i in soup.find_all('a', {'aria-hidden':\"true\"})]\n",
    "    return url\n",
    "\n",
    "def get_description(soup):\n",
    "    #Получение описания\n",
    "    try:\n",
    "        description = [' '.join([tag.contents[0] for tag in bs4.BeautifulSoup(requests.get(i['href'] ).text, \"html.parser\")('p')[2:4]]) for i in soup.find_all('a', {'aria-hidden':\"true\"})]\n",
    "    except:\n",
    "        url_ = [i['href'] for i in soup.find_all('a', {'aria-hidden':\"true\"})]\n",
    "        soup_ = [bs4.BeautifulSoup(requests.get(i).text, \"html.parser\") for i in url_]\n",
    "        _soup = [soup.find_all('div', {'class': \"entry-content\"}) for soup in soup_]\n",
    "        description = [' '.join([i.contents[0] for i in soup[0]('p') if type(i.contents[0]) == bs4.element.NavigableString]) for soup in _soup]\n",
    "    \n",
    "    # Отчистка от стандартной фраыз в начале.\n",
    "    for i, d in enumerate(description):\n",
    "        try:\n",
    "            description[i] = d.split('года на Первом канале. ')[1]\n",
    "        except:\n",
    "            description[i] = d\n",
    "    return description\n",
    "\n",
    "def get_views(soup):\n",
    "    # Поиск выпуска на ютубе и суммирование колличества просмотров всех видео с ним. \n",
    "    views = []\n",
    "    for find in name(soup):\n",
    "        results = YoutubeSearch(f'мужское женское {find}', max_results=10).to_dict()\n",
    "        results = [d for d in results if find in d['title']]\n",
    "        v = [d['views'] for d in results if 'мужское' in d['title'] or \n",
    "                                            'Мужское' in d['title'] or \n",
    "                                            'женское' in d['title'] or \n",
    "                                            'Женское' in d['title'] or \n",
    "                                            'выпуск' in d['title'] or \n",
    "                                            'Выпуск' in d['title']]\n",
    "        if len(v) == 0:\n",
    "            v = 0\n",
    "        else:\n",
    "            v = sum([int(v_i.split(' ')[0].replace(u'\\xa0', u''))for v_i in v])\n",
    "        views += [v]\n",
    "    return views\n",
    "\n",
    "def get_df(soup):\n",
    "    #Запись все в датафрейм\n",
    "    df = pd.DataFrame({'Дата выпуска': get_date(soup),\n",
    "                       'Название': get_name(soup),\n",
    "                       'Ссылка': get_url(soup),\n",
    "                       'Описание': get_description(soup),\n",
    "                       'Суммарное кол-во просмотров' : get_views(soup)})\n",
    "    return df"
   ]
  },
  {
   "cell_type": "code",
   "execution_count": 266,
   "id": "c161eff6",
   "metadata": {},
   "outputs": [
    {
     "name": "stdout",
     "output_type": "stream",
     "text": [
      "Возникло ошибок: 0\n",
      " Среднее время обработки составляет: 10.78052 секунд\n",
      " Осталось: 0.18 минут\n"
     ]
    },
    {
     "data": {
      "image/png": "[encoded data removed]",
      "text/plain": [
       "<Figure size 432x288 with 1 Axes>"
      ]
     },
     "metadata": {
      "needs_background": "light"
     },
     "output_type": "display_data"
    }
   ],
   "source": [
    "df = pd.DataFrame()\n",
    "error_list = [] # собирает список страниц на которых могла возникнуть ошибка\n",
    "t = [] # для подсчета времени\n",
    "x = [] # затраченое время на обработку страницы\n",
    "y = [] # номер страницы\n",
    "\n",
    "# получаем колличество страниц на сайте и проходимся по каждой из них\n",
    "number_of_pages = int([t.text for t in bs4.BeautifulSoup(requests.get(f'https://m-zh.ru/page/1').text, \"html.parser\").\n",
    "                       find_all('a', {'class':'page-numbers'})][-2])\n",
    "for n in range(number_of_pages):\n",
    "    start = time.time() # время начала операции\n",
    "    try:\n",
    "        soup = bs4.BeautifulSoup(requests.get(f'https://m-zh.ru/page/{n}').text, \"html.parser\")\n",
    "        df = pd.concat([df, get_df(soup)], ignore_index=True)\n",
    "    except:\n",
    "        error_list.append(n)\n",
    "        print(f'Error with: {n}')\n",
    "    end = time.time() # время завершения операции\n",
    "    t += [end-start] # вычисляем затраченое время\n",
    "    r = round(((sum(t)/len(t))*(number_of_pages-n))/60, 2) #вычисляем оставшееся время на проход по всем страницам\n",
    "    \n",
    "    clear_output(wait=True) # отчищаем вывод чтобы не происходило наслоения\n",
    "    print(f'Возникло ошибок: {len(error_list)}\\n',\n",
    "          f'Среднее время обработки составляет: {sum(t)/len(t):.5f} секунд\\n',\n",
    "          f'Осталось: {r} минут')\n",
    "    \n",
    "    # рисуем граффик времени затраченой на операцию и номер операции\n",
    "    x += [n]\n",
    "    y += [sum(t)/len(t)]\n",
    "    plt.plot(x, y)\n",
    "    plt.show()\n",
    "    \n",
    "df.to_csv('МЖ.csv', index = False)"
   ]
  }
 ],
 "metadata": {
  "kernelspec": {
   "display_name": "Python 3 (ipykernel)",
   "language": "python",
   "name": "python3"
  },
  "language_info": {
   "codemirror_mode": {
    "name": "ipython",
    "version": 3
   },
   "file_extension": ".py",
   "mimetype": "text/x-python",
   "name": "python",
   "nbconvert_exporter": "python",
   "pygments_lexer": "ipython3",
   "version": "3.9.7"
  }
 },
 "nbformat": 4,
 "nbformat_minor": 5
}
